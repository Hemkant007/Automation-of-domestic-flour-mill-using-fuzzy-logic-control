!pip install Scikit-Fuzzy
import numpy as np
import skfuzzy as fuzz
from skfuzzy import control as ctrl


quality=ctrl.Antecedent(np.arange(0,101,1), 'quality')
material=ctrl.Antecedent(np.arange(0,101,1), 'material')
rang=ctrl.Consequent(np.arange(0,101,1), 'range')

quality['SMALL']=fuzz.trimf(rang.universe,[0,0,40])
quality['MEDIUM']=fuzz.trimf(rang.universe,[30,40,75])
quality['LARGE']=fuzz.trimf(rang.universe,[65,75,100])

material['SOFT']=fuzz.trimf(rang.universe,[0,0,45])
material['MEDIUM']=fuzz.trimf(rang.universe,[40,45,75])
material['HARD']=fuzz.trimf(rang.universe,[60,75,100])

quality.view()

material.view()

rang['SLOW']=fuzz.trimf(rang.universe,[0,0,35])
rang['INTERMEDIATE']=fuzz.trimf(rang.universe,[30,35,75])
rang['FAST']=fuzz.trimf(rang.universe,[65,75,100])

rang.view()

rule1=ctrl.Rule(quality['SMALL']|material['SOFT'],rang['SLOW'])
rule2=ctrl.Rule(quality['SMALL']|material['MEDIUM'],rang['SLOW'])
rule3=ctrl.Rule(quality['SMALL']|material['HARD'],rang['INTERMEDIATE'])
rule4=ctrl.Rule(quality['MEDIUM']|material['SOFT'],rang['INTERMEDIATE'])
rule5=ctrl.Rule(quality['MEDIUM']|material['MEDIUM'],rang['INTERMEDIATE'])
rule6=ctrl.Rule(quality['MEDIUM']|material['HARD'],rang['FAST'])
rule7=ctrl.Rule(quality['LARGE']|material['SOFT'],rang['INTERMEDIATE'])
rule8=ctrl.Rule(quality['LARGE']|material['MEDIUM'],rang['FAST'])
rule9=ctrl.Rule(quality['LARGE']|material['HARD'],rang['FAST'])

rang_ctrl=ctrl.ControlSystem([rule1, rule2, rule3, rule4, rule5, rule6, rule7, rule8, rule9])

tiping=ctrl.ControlSystemSimulation(rang_ctrl)

a=int(input("ENTER VALUE OF QUALITY = "))
b=int(input("ENTER VALUE OF MATERIAL TYPE = "))
tiping.input['quality']=a
tiping.input['material']=b
tiping.compute()
print("******************")
print(tiping.output['range'])
print("******************")
rang.view(sim=tiping)
